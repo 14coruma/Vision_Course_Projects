{
 "metadata": {
  "language_info": {
   "codemirror_mode": {
    "name": "ipython",
    "version": 3
   },
   "file_extension": ".py",
   "mimetype": "text/x-python",
   "name": "python",
   "nbconvert_exporter": "python",
   "pygments_lexer": "ipython3",
   "version": "3.8.5-final"
  },
  "orig_nbformat": 2,
  "kernelspec": {
   "name": "python3",
   "display_name": "Python 3.8.5 64-bit",
   "metadata": {
    "interpreter": {
     "hash": "4fedbdb6e668446f3c96061a3e0973608a7182bb8999eeda9ee69679a98fef9b"
    }
   }
  }
 },
 "nbformat": 4,
 "nbformat_minor": 2,
 "cells": [
  {
   "cell_type": "code",
   "execution_count": null,
   "metadata": {},
   "outputs": [],
   "source": []
  },
  {
   "cell_type": "code",
   "execution_count": 2,
   "metadata": {},
   "outputs": [],
   "source": [
    "note_sequence = ('A','B','C','D','E','F','G')\n"
   ]
  },
  {
   "cell_type": "code",
   "execution_count": 4,
   "metadata": {},
   "outputs": [
    {
     "output_type": "execute_result",
     "data": {
      "text/plain": [
       "('A', 'B', 'C', 'D', 'E', 'F', 'G')"
      ]
     },
     "metadata": {},
     "execution_count": 4
    }
   ],
   "source": [
    "# note_sequence\n",
    "# def detect_note()\n",
    "# given the detected note position, its start \n",
    "(note_position - staff_start) / note_distance\n"
   ]
  }
 ]
}