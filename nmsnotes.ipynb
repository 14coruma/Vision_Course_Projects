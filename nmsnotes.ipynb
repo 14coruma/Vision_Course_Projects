{
 "metadata": {
  "language_info": {
   "codemirror_mode": {
    "name": "ipython",
    "version": 3
   },
   "file_extension": ".py",
   "mimetype": "text/x-python",
   "name": "python",
   "nbconvert_exporter": "python",
   "pygments_lexer": "ipython3",
   "version": "3.8.5-final"
  },
  "orig_nbformat": 2,
  "kernelspec": {
   "name": "python3",
   "display_name": "Python 3.8.5 64-bit",
   "metadata": {
    "interpreter": {
     "hash": "4fedbdb6e668446f3c96061a3e0973608a7182bb8999eeda9ee69679a98fef9b"
    }
   }
  }
 },
 "nbformat": 4,
 "nbformat_minor": 2,
 "cells": [
  {
   "cell_type": "code",
   "execution_count": 2,
   "metadata": {},
   "outputs": [],
   "source": [
    "\n",
    "import sys\n",
    "import os\n",
    "import math\n",
    "import numpy as np\n",
    "from numba import njit\n",
    "from omr import *\n",
    "from PIL import Image, ImageDraw, ImageFont\n",
    "\n",
    "TEMPLATE_DIR = \"./templates/\"\n",
    "TEMPLATE_STAVE_DIST = 12\n",
    "TREBLE_CLEF = ['E','D','C','B','A','G','F']\n",
    "BASS_CLEF = ['G','F','E','D','C','B','A']"
   ]
  },
  {
   "cell_type": "code",
   "execution_count": 3,
   "metadata": {},
   "outputs": [
    {
     "output_type": "stream",
     "name": "stdout",
     "text": [
      "Detecting stave distance...\n",
      "Iteration 0/382\n",
      "Iteration 25/382\n",
      "Iteration 50/382\n",
      "Iteration 75/382\n",
      "Iteration 100/382\n",
      "Iteration 125/382\n",
      "Iteration 150/382\n",
      "Iteration 175/382\n",
      "Iteration 200/382\n",
      "Iteration 225/382\n",
      "Iteration 250/382\n",
      "Iteration 275/382\n",
      "Iteration 300/382\n",
      "Iteration 325/382\n",
      "Iteration 350/382\n",
      "Iteration 375/382\n",
      "Found stave distance 13 at rows [210, 80]\n",
      "Detecting notes...\n",
      "Done.\n"
     ]
    }
   ],
   "source": [
    "im = Image.open('./images/music2.png').convert(mode='L')\n",
    "\n",
    "print(\"Detecting stave distance...\")\n",
    "staveDist, staves = detect_stave_distance(np.array(im, dtype=np.float64)/255)\n",
    "imScaled, scale = scale_from_staves(im, staveDist)\n",
    "print(\"Detecting notes...\")\n",
    "notes = detect_notes(np.array(imScaled)/255, scale, staves)\n",
    "visualized = visualize_notes(im, notes)\n",
    "visualized.show()\n",
    "visualized.save(\"detected.png\")\n",
    "notes_to_txt(notes)\n",
    "print(\"Done.\")"
   ]
  },
  {
   "cell_type": "code",
   "execution_count": null,
   "metadata": {},
   "outputs": [],
   "source": []
  },
  {
   "cell_type": "code",
   "execution_count": null,
   "metadata": {},
   "outputs": [],
   "source": []
  }
 ]
}