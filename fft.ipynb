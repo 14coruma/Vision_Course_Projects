{
 "metadata": {
  "language_info": {
   "codemirror_mode": {
    "name": "ipython",
    "version": 3
   },
   "file_extension": ".py",
   "mimetype": "text/x-python",
   "name": "python",
   "nbconvert_exporter": "python",
   "pygments_lexer": "ipython3",
   "version": 3
  },
  "orig_nbformat": 2
 },
 "nbformat": 4,
 "nbformat_minor": 2,
 "cells": [
  {
   "cell_type": "code",
   "execution_count": null,
   "metadata": {},
   "outputs": [],
   "source": [
    "from PIL import Image\n",
    "import numpy as np\n",
    "from omr import convolve, convolve_separable\n",
    "import matplotlib.pyplot as plt\n",
    "\n",
    "im = plt.imread('').astype(float)\n",
    "\n",
    "plt.figure()\n",
    "plt.imshow(im, plt.cm.gray)\n",
    "plt.title('Original image')"
   ]
  }
 ]
}