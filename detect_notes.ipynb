{
 "metadata": {
  "language_info": {
   "codemirror_mode": {
    "name": "ipython",
    "version": 3
   },
   "file_extension": ".py",
   "mimetype": "text/x-python",
   "name": "python",
   "nbconvert_exporter": "python",
   "pygments_lexer": "ipython3",
   "version": 3
  },
  "orig_nbformat": 2
 },
 "nbformat": 4,
 "nbformat_minor": 2,
 "cells": [
  {
   "cell_type": "code",
   "execution_count": null,
   "metadata": {},
   "outputs": [],
   "source": []
  },
  {
   "cell_type": "code",
   "execution_count": null,
   "metadata": {},
   "outputs": [],
   "source": [
    "def detect_notes(imScaled, scale):\n",
    "    '''\n",
    "    Given appropriately scaled grayscale image of sheet music, detect notes\n",
    "    and rests given templates. Adjust note postion/scale to match original\n",
    "    image scale\n",
    "\n",
    "    Possible approaches:\n",
    "      - Hamming distance between region and template (using convolution)\n",
    "      - Compute Sobel edge maps with different scoring fn (see assignment pdf)\n",
    "    \n",
    "    Params:\n",
    "        imScaled (PIL.Image): scaled grayscale image of sheet music\n",
    "        scale (float): image scaling factor\n",
    "\n",
    "    Returns:\n",
    "        notes (list): List of notes in original image. Each note should include:\n",
    "            [row, col, height, width, symbol_type, pitch, confidence]\n",
    "    '''\n",
    "    noteTemp = Image.open(TEMPLATE_DIR + \"template1.png\")\n",
    "    quarterTemp = Image.open(TEMPLATE_DIR + \"template2.png\")\n",
    "    eighthTemp = Image.open(TEMPLATE_DIR + \"template3.png\")\n",
    "\n",
    "    pass"
   ]
  }
 ]
}