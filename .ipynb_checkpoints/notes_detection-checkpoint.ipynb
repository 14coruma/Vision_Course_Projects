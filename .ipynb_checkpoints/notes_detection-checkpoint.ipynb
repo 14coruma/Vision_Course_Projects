{
 "cells": [
  {
   "cell_type": "code",
   "execution_count": 1,
   "metadata": {},
   "outputs": [],
   "source": [
    "# Read the image and template\n",
    "# Define a convolution function\n",
    "# Compute the Hamming distance and mark the symbol\n",
    "# Define an edge detector using Sobel operator\n",
    "# Obtain the edge maps from the image and template\n",
    "# Compute the edge based score in a naive way and mark the symbol\n",
    "# Compute the edge based score using dynamic programming and mark the symbol"
   ]
  },
  {
   "cell_type": "code",
   "execution_count": 2,
   "metadata": {},
   "outputs": [],
   "source": [
    "from PIL import Image\n",
    "import numpy as np"
   ]
  },
  {
   "cell_type": "code",
   "execution_count": 3,
   "metadata": {},
   "outputs": [
    {
     "name": "stdout",
     "output_type": "stream",
     "text": [
      "None (1274, 231) L\n",
      "(231, 1274)\n",
      " \n",
      "None (1435, 382) L\n",
      "(382, 1435)\n",
      " \n",
      "None (17, 11) L\n",
      "(11, 17)\n",
      " \n",
      "None (16, 35) L\n",
      "(35, 16)\n",
      " \n",
      "None (18, 29) L\n",
      "(29, 18)\n"
     ]
    }
   ],
   "source": [
    "# Read images and templates\n",
    "clean_target_im = Image.open('./images/music1.png').convert('L')\n",
    "print(clean_target_im.format, clean_target_im.size, clean_target_im.mode)\n",
    "clean_target_array = np.array(clean_target_im) / 255.0\n",
    "print(clean_target_array.shape)\n",
    "print(' ')\n",
    "\n",
    "clutter_target_im = Image.open('./images/music2.png').convert('L')\n",
    "print(clutter_target_im.format, clutter_target_im.size, clutter_target_im.mode)\n",
    "clutter_target_array = np.array(clutter_target_im) / 255.0\n",
    "print(clutter_target_array.shape)\n",
    "print(' ')\n",
    "\n",
    "note_template = Image.open('./templates/template1.png').convert('L')\n",
    "print(note_template.format, note_template.size, note_template.mode)\n",
    "note_template_array = np.array(note_template) / 255.0\n",
    "print(note_template_array.shape)\n",
    "print(' ')\n",
    "\n",
    "quarter_rest_template = Image.open('./templates/template2.png').convert('L')\n",
    "print(quarter_rest_template.format, quarter_rest_template.size, quarter_rest_template.mode)\n",
    "quarter_rest_template_array = np.array(quarter_rest_template) / 255.0\n",
    "print(quarter_rest_template_array.shape)\n",
    "print(' ')\n",
    "\n",
    "eighth_rest_template = Image.open('./templates/template3.png').convert('L')\n",
    "print(eighth_rest_template.format, eighth_rest_template.size, eighth_rest_template.mode)\n",
    "eighth_rest_template_array = np.array(eighth_rest_template) / 255.0\n",
    "print(eighth_rest_template_array.shape)"
   ]
  },
  {
   "cell_type": "code",
   "execution_count": 4,
   "metadata": {},
   "outputs": [
    {
     "data": {
      "text/plain": [
       "<Figure size 640x480 with 1 Axes>"
      ]
     },
     "metadata": {},
     "output_type": "display_data"
    },
    {
     "data": {
      "text/plain": [
       "<Figure size 640x480 with 1 Axes>"
      ]
     },
     "metadata": {},
     "output_type": "display_data"
    },
    {
     "data": {
      "text/plain": [
       "<Figure size 640x480 with 1 Axes>"
      ]
     },
     "metadata": {},
     "output_type": "display_data"
    },
    {
     "data": {
      "text/plain": [
       "<Figure size 640x480 with 1 Axes>"
      ]
     },
     "metadata": {},
     "output_type": "display_data"
    },
    {
     "data": {
      "text/plain": [
       "<Figure size 640x480 with 1 Axes>"
      ]
     },
     "metadata": {},
     "output_type": "display_data"
    }
   ],
   "source": [
    "# Display the images and templates\n",
    "import matplotlib.pyplot as plt\n",
    "\n",
    "plt.imshow(clean_target_array, cmap='gray')\n",
    "plt.show()\n",
    "\n",
    "plt.imshow(clutter_target_array, cmap='gray')\n",
    "plt.show()\n",
    "\n",
    "plt.imshow(note_template_array, cmap='gray')\n",
    "plt.show()\n",
    "\n",
    "plt.imshow(quarter_rest_template_array, cmap='gray')\n",
    "plt.show()\n",
    "\n",
    "plt.imshow(eighth_rest_template_array, cmap='gray')\n",
    "plt.show()"
   ]
  },
  {
   "cell_type": "code",
   "execution_count": 5,
   "metadata": {},
   "outputs": [],
   "source": [
    "# Compute Hamming distance\n",
    "def compute_hamming(I, T):\n",
    "    M = T.shape[0]\n",
    "    K = T.shape[1]\n",
    "#     T_ones = np.ones(T.shape)\n",
    "    \n",
    "    # Initialize a hamming score matrix\n",
    "    hamming_score_row = I.shape[0] - M\n",
    "    hamming_score_col = I.shape[1] - K\n",
    "    hamming_score = np.zeros((hamming_score_row, hamming_score_col))\n",
    "    \n",
    "    # Loop for each pixel in the image\n",
    "    for i in range(hamming_score_row):\n",
    "        for j in range(hamming_score_col):\n",
    "            score = 0\n",
    "            for m in range(M):\n",
    "                for k in range(K):\n",
    "                    score = score + I[i+m, j+k]*T[m, k] + (1 - I[i+m, j+k])*(1 - T[m, k])\n",
    "            hamming_score[i, j] = score\n",
    "    return hamming_score"
   ]
  },
  {
   "cell_type": "code",
   "execution_count": 6,
   "metadata": {},
   "outputs": [],
   "source": [
    "import time\n",
    "\n",
    "def detect_symbols_using_hamming(I, T, score_thresh):\n",
    "    '''Inputs are numpy array'''\n",
    "    t_1 = time.time()\n",
    "    hamming_score_array = compute_hamming(I, T)\n",
    "    t_2 = time.time()\n",
    "    print(\"Time for computing hamming distance: \", t_2 - t_1)\n",
    "    \n",
    "    indices = np.where(hamming_score_array > hamming_score_array.max()-score_thresh)\n",
    "    \n",
    "    return indices"
   ]
  },
  {
   "cell_type": "code",
   "execution_count": 7,
   "metadata": {},
   "outputs": [],
   "source": [
    "from PIL import ImageDraw\n",
    "def dispaly_and_save(original_im, template_array, indices, color, file_name):\n",
    "    im = original_im.copy()\n",
    "    rgbimg = Image.new(\"RGBA\", im.size)\n",
    "    rgbimg.paste(im)\n",
    "    for i in range(indices[0].shape[0]):\n",
    "        shape = [(indices[1][i], indices[0][i]), (indices[1][i] + template_array.shape[1], indices[0][i] + template_array.shape[0])]\n",
    "        rgbimg1 = ImageDraw.Draw(rgbimg)\n",
    "        rgbimg1.rectangle(shape, outline =color)\n",
    "    rgbimg.show()\n",
    "    rgbimg.save(file_name)"
   ]
  },
  {
   "cell_type": "code",
   "execution_count": 68,
   "metadata": {},
   "outputs": [
    {
     "name": "stdout",
     "output_type": "stream",
     "text": [
      "Time for computing hamming distance:  84.35875153541565\n"
     ]
    }
   ],
   "source": [
    "idx_1 = detect_symbols_using_hamming(clean_target_array, note_template_array, 15)"
   ]
  },
  {
   "cell_type": "code",
   "execution_count": 71,
   "metadata": {},
   "outputs": [],
   "source": [
    "dispaly_and_save(clean_target_im, note_template_array, idx_1, 'red', './notes_on_clean_target.png')"
   ]
  },
  {
   "cell_type": "code",
   "execution_count": 72,
   "metadata": {},
   "outputs": [
    {
     "name": "stdout",
     "output_type": "stream",
     "text": [
      "Time for computing hamming distance:  221.7329339981079\n"
     ]
    }
   ],
   "source": [
    "idx_2 = detect_symbols_using_hamming(clean_target_array, quarter_rest_template_array, 10)"
   ]
  },
  {
   "cell_type": "code",
   "execution_count": 75,
   "metadata": {},
   "outputs": [],
   "source": [
    "dispaly_and_save(clean_target_im, quarter_rest_template_array, idx_2, 'green', './quarter_rests_on_clean_target.png')"
   ]
  },
  {
   "cell_type": "code",
   "execution_count": 76,
   "metadata": {},
   "outputs": [
    {
     "name": "stdout",
     "output_type": "stream",
     "text": [
      "Time for computing hamming distance:  212.28248286247253\n"
     ]
    }
   ],
   "source": [
    "idx_3 = detect_symbols_using_hamming(clean_target_array, eighth_rest_template_array, 10)"
   ]
  },
  {
   "cell_type": "code",
   "execution_count": 77,
   "metadata": {},
   "outputs": [],
   "source": [
    "dispaly_and_save(clean_target_im, eighth_rest_template_array, idx_3, 'blue', './eighth_rests_on_clean_target.png')"
   ]
  },
  {
   "cell_type": "code",
   "execution_count": 78,
   "metadata": {},
   "outputs": [
    {
     "name": "stdout",
     "output_type": "stream",
     "text": [
      "Time for computing hamming distance:  158.18975138664246\n"
     ]
    }
   ],
   "source": [
    "idx_4 = detect_symbols_using_hamming(clutter_target_array, note_template_array, 15)"
   ]
  },
  {
   "cell_type": "code",
   "execution_count": 79,
   "metadata": {},
   "outputs": [],
   "source": [
    "dispaly_and_save(clutter_target_im, note_template_array, idx_4, 'red', './notes_on_clutter_target_using_hamming.png')"
   ]
  },
  {
   "cell_type": "code",
   "execution_count": 80,
   "metadata": {},
   "outputs": [
    {
     "name": "stdout",
     "output_type": "stream",
     "text": [
      "Time for computing hamming distance:  423.99120903015137\n"
     ]
    }
   ],
   "source": [
    "idx_5 = detect_symbols_using_hamming(clutter_target_array, quarter_rest_template_array, 15)"
   ]
  },
  {
   "cell_type": "code",
   "execution_count": 81,
   "metadata": {},
   "outputs": [],
   "source": [
    "dispaly_and_save(clutter_target_im, quarter_rest_template_array, idx_5, 'green', './quarter_rests_on_clutter_target_using_hamming.png')"
   ]
  },
  {
   "cell_type": "code",
   "execution_count": 28,
   "metadata": {},
   "outputs": [
    {
     "name": "stdout",
     "output_type": "stream",
     "text": [
      "Time for computing hamming distance:  436.86663341522217\n"
     ]
    }
   ],
   "source": [
    "idx_6 = detect_symbols_using_hamming(clutter_target_array, eighth_rest_template_array, 15)"
   ]
  },
  {
   "cell_type": "code",
   "execution_count": 29,
   "metadata": {},
   "outputs": [],
   "source": [
    "dispaly_and_save(clutter_target_im, eighth_rest_template_array, idx_6, 'blue', './eighth_rests_on_clutter_target_using_hamming.png')"
   ]
  },
  {
   "cell_type": "code",
   "execution_count": 8,
   "metadata": {},
   "outputs": [],
   "source": [
    "# TODO: Currently padding with zeros. Change later if necessary (but this might be fine)\n",
    "def convolve(image,kernel,padding =0):\n",
    "    '''\n",
    "    Given grayscale image, convolve with a kernel\n",
    "\n",
    "    Params:\n",
    "        im (PIL.Image): grayscale image\n",
    "        k (2d np.array): convolution kernel\n",
    "\n",
    "    Returns:\n",
    "        imOut (PIL.Image): resulting image\n",
    "    '''\n",
    "    image = np.array(image)\n",
    "    kernel = np.flipud(np.fliplr(kernel))\n",
    "    xklen = kernel.shape[0]\n",
    "    yklen = kernel.shape[1]\n",
    "    ximlen = image.shape[0]\n",
    "    yimlen = image.shape[1]\n",
    "    if padding != 0:\n",
    "        padded_image = np.zeros((int(ximlen) + padding * 2,int(yimlen) +padding*2))\n",
    "        padded_image[padding:padding+ximlen,padding:padding+yimlen] = image\n",
    "    else:\n",
    "        padded_image = image\n",
    "    final_image = np.zeros((padded_image.shape[0] - padding ,padded_image.shape[1] - padding))\n",
    "    for i in range(0, padded_image.shape[0]):\n",
    "        for j in range(0,padded_image.shape[1]):\n",
    "            try:\n",
    "                final_image[i,j] = (padded_image[i:i+xklen,j:j+yklen] * kernel).sum()\n",
    "            except:\n",
    "                break    \n",
    "    return Image.fromarray(final_image)"
   ]
  },
  {
   "cell_type": "code",
   "execution_count": 9,
   "metadata": {},
   "outputs": [],
   "source": [
    "def convolve_separable(im, kx, ky):    \n",
    "    '''\n",
    "    Given grayscale image, convolve with a separable kernel k = kx^T * ky\n",
    "\n",
    "    Params:\n",
    "        im (PIL.Image): grayscale image\n",
    "        kx (np.array): kernel in x direction\n",
    "        ky (Np.array): kernel in y direction\n",
    "    \n",
    "    Returns:\n",
    "        imOut (PIL.Image): resulting image\n",
    "    '''\n",
    "    # kx = np.transpose(kx)\n",
    "    output = convolve(im,kx)\n",
    "    output = convolve(output,ky)\n",
    "    return output"
   ]
  },
  {
   "cell_type": "code",
   "execution_count": 8,
   "metadata": {},
   "outputs": [],
   "source": [
    "from scipy.signal import convolve2d\n",
    "\n",
    "# Define an edge detector\n",
    "def edge_detector(I):\n",
    "    '''Input is a numpy array'''\n",
    "    # Prepare the kernels\n",
    "    a1 = np.matrix([1, 2, 1])\n",
    "    a2 = np.matrix([-1, 0, 1])\n",
    "    Kx = a1.T * a2\n",
    "    Ky = a2.T * a1\n",
    "    \n",
    "    # Apply the Sobel operator\n",
    "    Gx = convolve2d(I, Kx, \"same\", \"symm\")\n",
    "    Gy = convolve2d(I, Ky, \"same\", \"symm\")\n",
    "    G = np.sqrt(Gx**2 + Gy**2)\n",
    "#     G = convolve_separable(I, a1, a2)\n",
    "    \n",
    "    return G"
   ]
  },
  {
   "cell_type": "code",
   "execution_count": 9,
   "metadata": {},
   "outputs": [
    {
     "data": {
      "image/png": "[encoded data removed]",
      "text/plain": [
       "<Figure size 432x288 with 1 Axes>"
      ]
     },
     "metadata": {
      "needs_background": "light"
     },
     "output_type": "display_data"
    }
   ],
   "source": [
    "edge_clutter_target = edge_detector(clutter_target_array)\n",
    "plt.imshow(edge_clutter_target)\n",
    "plt.show()"
   ]
  },
  {
   "cell_type": "code",
   "execution_count": 10,
   "metadata": {},
   "outputs": [
    {
     "data": {
      "image/png": "[encoded data removed]",
      "text/plain": [
       "<Figure size 432x288 with 1 Axes>"
      ]
     },
     "metadata": {
      "needs_background": "light"
     },
     "output_type": "display_data"
    }
   ],
   "source": [
    "edge_quarter_rest_template = edge_detector(quarter_rest_template_array)\n",
    "plt.imshow(edge_quarter_rest_template)\n",
    "plt.show()"
   ]
  },
  {
   "cell_type": "code",
   "execution_count": 11,
   "metadata": {},
   "outputs": [
    {
     "data": {
      "image/png": "[encoded data removed]",
      "text/plain": [
       "<Figure size 432x288 with 1 Axes>"
      ]
     },
     "metadata": {
      "needs_background": "light"
     },
     "output_type": "display_data"
    }
   ],
   "source": [
    "edge_eighth_rest_template = edge_detector(eighth_rest_template_array)\n",
    "plt.imshow(edge_eighth_rest_template)\n",
    "plt.show()"
   ]
  },
  {
   "cell_type": "code",
   "execution_count": 12,
   "metadata": {},
   "outputs": [
    {
     "name": "stdout",
     "output_type": "stream",
     "text": [
      "Time for computing hamming distance:  373.1418561935425\n"
     ]
    }
   ],
   "source": [
    "idx_7 = detect_symbols_using_hamming(edge_clutter_target, edge_eighth_rest_template, 350)"
   ]
  },
  {
   "cell_type": "code",
   "execution_count": 25,
   "metadata": {},
   "outputs": [
    {
     "data": {
      "text/plain": [
       "array([ 88,  88,  89,  89,  89,  89,  89,  89,  89,  90,  90, 102, 233,\n",
       "       234, 235, 235, 235, 235, 236, 247, 247, 247, 247])"
      ]
     },
     "execution_count": 25,
     "metadata": {},
     "output_type": "execute_result"
    }
   ],
   "source": [
    "idx_7[0]"
   ]
  },
  {
   "cell_type": "code",
   "execution_count": 27,
   "metadata": {},
   "outputs": [],
   "source": [
    "dispaly_and_save(clutter_target_im, eighth_rest_template_array, idx_7, 'blue', './edge_eighth_rests_on_clutter_target_using_hamming.png')"
   ]
  },
  {
   "cell_type": "code",
   "execution_count": 30,
   "metadata": {},
   "outputs": [
    {
     "name": "stdout",
     "output_type": "stream",
     "text": [
      "Time for computing hamming distance:  477.4631085395813\n"
     ]
    }
   ],
   "source": [
    "idx_8 = detect_symbols_using_hamming(edge_clutter_target, edge_quarter_rest_template, 350)"
   ]
  },
  {
   "cell_type": "code",
   "execution_count": 31,
   "metadata": {},
   "outputs": [],
   "source": [
    "dispaly_and_save(clutter_target_im, quarter_rest_template_array, idx_8, 'green', './edge_quarter_rests_on_clutter_target_using_hamming.png')"
   ]
  },
  {
   "cell_type": "code",
   "execution_count": null,
   "metadata": {},
   "outputs": [],
   "source": [
    "\"\"\"\n",
    "Code adpated from: https://www.geeksforgeeks.org/breadth-first-traversal-bfs-on-a-2d-array/\n",
    "\"\"\"\n",
    "from collections import deque as queue\n",
    "\n",
    "# Direction vectors\n",
    "dRow = [ -1, 0, 1, 0]\n",
    "dCol = [ 0, 1, 0, -1]\n",
    "def is_valid(vis, row_idx, col_idx):\n",
    "    if(row_idx < 0 or col_idx < 0 or row_idx >= vis.shape[0] or col_idx >= vis.shape[1]):\n",
    "        return False\n",
    "    \n",
    "    if(vis[row, col]):\n",
    "        return False\n",
    "    \n",
    "    return True\n",
    "\n",
    "def BFS_search(edge_array, row_idx, col_idx):\n",
    "    '''\n",
    "    edge_array: a binary map where value 1 indicates the edge pixel\n",
    "    start_pos: index for the pixel to check (row_idx, col_idx)\n",
    "    '''\n",
    "    # Initialize the visit array with False\n",
    "    visited_array = np.zeros(edge_array.shape).astype(bool)\n",
    "    q = queue()\n",
    "    q.append((row_idx, col_idx))\n",
    "    visited_array[row_idx, col_idx] = True\n",
    "    dist = None\n",
    "    \n",
    "    while(len(q) > 0):\n",
    "        temp_cell = q.popleft()\n",
    "        x = temp_cell[0]\n",
    "        y = temp_cell[1]\n",
    "        \n",
    "        # Soft condition\n",
    "        #if (edge_array[x, y] > 0.5):\n",
    "        # Strong condition\n",
    "        if(edge_array[x, y] == 1):\n",
    "            dist = np.sqrt(pow(x-row_idx, 2)+pow(y-col_idx, 2))\n",
    "            break\n",
    "        \n",
    "        # Only 4 neighbours are checked\n",
    "        for i in range(4):\n",
    "            adjx = x + dRow[i]\n",
    "            adjy = y + dCol[i]\n",
    "            if(is_valid(visited_array, adjx, adjy)):\n",
    "                q.append((adjx, adjy))\n",
    "                visited_array[adjx, adjy] = True\n",
    "    return dist\n",
    "\n",
    "def compute_D(I_edge):\n",
    "    D_row = I_edge.shape[0]\n",
    "    D_col = I_edge.shape[1]\n",
    "    \n",
    "    D = np.zeros((D_row, D_col))\n",
    "    \n",
    "    for i in range(D_row):\n",
    "        for j in range(D_col):\n",
    "            D[i][j] = BFS_search(I_edge)"
   ]
  },
  {
   "cell_type": "code",
   "execution_count": 14,
   "metadata": {},
   "outputs": [],
   "source": [
    "def compute_D(I_edge, T_edge):\n",
    "    M = T_edge.shape[0]\n",
    "    K = T_edge.shape[1]\n",
    "    \n",
    "    D_row = I_edge.shape[0]\n",
    "    D_col = I_edge.shape[1]\n",
    "    \n",
    "    D = np.zeros((D_row, D_col))\n",
    "    \n",
    "    for i in range(D_row):\n",
    "        for j in range(D_col):\n",
    "            temp_D = 0\n",
    "            D_list = []\n",
    "#             for m in range(D_row):\n",
    "#             for m in range()\n",
    "            mm = np.linspace(-M, M, 2*M+1).astype(int)\n",
    "            for m in mm:\n",
    "                d_list = []\n",
    "                kk = np.linspace(-K, K, 2*K+1).astype(int)\n",
    "#                 for k in range(D_col):\n",
    "                for k in kk:\n",
    "                    row_idx = i + m\n",
    "                    col_idx = j + k\n",
    "                    if row_idx < 0:\n",
    "                        row_idx = 0\n",
    "                    elif row_idx >= D_row:\n",
    "                        row_idx = D_row-1\n",
    "                        \n",
    "                    if col_idx < 0:\n",
    "                        col_idx = 0\n",
    "                    elif col_idx >= D_col:\n",
    "                        col_idx = D_col-1\n",
    "                        \n",
    "                    if I_edge[row_idx, col_idx] == 0:\n",
    "                        gamma = np.inf\n",
    "                    else:\n",
    "                        gamma = 0\n",
    "                    dist = np.sqrt(pow(row_idx - i, 2) + pow(col_idx - j, 2))\n",
    "                    d = dist + gamma\n",
    "                    d_list.append(d)\n",
    "                temp_d = min(d_list)\n",
    "                D_list.append(temp_d)\n",
    "            temp_D = min(D_list)\n",
    "            D[i, j] = temp_D\n",
    "    return D"
   ]
  },
  {
   "cell_type": "code",
   "execution_count": 12,
   "metadata": {},
   "outputs": [],
   "source": [
    "def edge_matching_score(D, T_edge, score_thresh):\n",
    "    M = T_edge.shape[0]\n",
    "    K = T_edge.shape[1]\n",
    "    \n",
    "    score_row = D.shape[0] - M\n",
    "    score_col = D.shape[1] - K\n",
    "    score_array = np.zeros((score_row, score_col))\n",
    "    \n",
    "    for i in range(score_row):\n",
    "        for j in range(score_col):\n",
    "            temp_score = 0\n",
    "            for m in range(M):\n",
    "                for k in range(K):\n",
    "                    temp_score = temp_score + T_edge[m, k]*D[i+m, j+k]\n",
    "            score_array[i, j] = temp_score\n",
    "            \n",
    "    indices = np.where(score_array > score_array.max()-score_thresh)\n",
    "    \n",
    "    return indices"
   ]
  },
  {
   "cell_type": "code",
   "execution_count": null,
   "metadata": {},
   "outputs": [],
   "source": [
    "D = compute_D(edge_clutter_target, edge_quarter_rest_template)"
   ]
  }
 ],
 "metadata": {
  "kernelspec": {
   "display_name": "Python 3",
   "language": "python",
   "name": "python3"
  },
  "language_info": {
   "codemirror_mode": {
    "name": "ipython",
    "version": 3
   },
   "file_extension": ".py",
   "mimetype": "text/x-python",
   "name": "python",
   "nbconvert_exporter": "python",
   "pygments_lexer": "ipython3",
   "version": "3.6.11"
  }
 },
 "nbformat": 4,
 "nbformat_minor": 4
}
